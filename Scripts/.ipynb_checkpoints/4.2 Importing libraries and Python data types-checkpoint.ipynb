{
 "cells": [
  {
   "cell_type": "markdown",
   "id": "731912c9",
   "metadata": {},
   "source": [
    "#01. Importing libraries"
   ]
  },
  {
   "cell_type": "code",
   "execution_count": 1,
   "id": "b7f9727b",
   "metadata": {},
   "outputs": [],
   "source": [
    "# Import libraries\n",
    "import pandas as pd\n",
    "import numpy as np\n",
    "import os"
   ]
  },
  {
   "cell_type": "markdown",
   "id": "a236d42c",
   "metadata": {},
   "source": [
    "#02.Working With Python data Types"
   ]
  },
  {
   "cell_type": "code",
   "execution_count": 27,
   "id": "91013509",
   "metadata": {},
   "outputs": [],
   "source": [
    "# Task 7 (3 ways to reach 100)\n",
    "x=50"
   ]
  },
  {
   "cell_type": "code",
   "execution_count": 28,
   "id": "9f3d3c12",
   "metadata": {},
   "outputs": [
    {
     "data": {
      "text/plain": [
       "100"
      ]
     },
     "execution_count": 28,
     "metadata": {},
     "output_type": "execute_result"
    }
   ],
   "source": [
    "x * 2"
   ]
  },
  {
   "cell_type": "code",
   "execution_count": 29,
   "id": "1a18d673",
   "metadata": {},
   "outputs": [
    {
     "data": {
      "text/plain": [
       "100"
      ]
     },
     "execution_count": 29,
     "metadata": {},
     "output_type": "execute_result"
    }
   ],
   "source": [
    "x + x"
   ]
  },
  {
   "cell_type": "code",
   "execution_count": 30,
   "id": "73d2053b",
   "metadata": {},
   "outputs": [],
   "source": [
    "y=25"
   ]
  },
  {
   "cell_type": "code",
   "execution_count": 31,
   "id": "c77e638f",
   "metadata": {},
   "outputs": [
    {
     "data": {
      "text/plain": [
       "100"
      ]
     },
     "execution_count": 31,
     "metadata": {},
     "output_type": "execute_result"
    }
   ],
   "source": [
    "x+(y*2)"
   ]
  },
  {
   "cell_type": "code",
   "execution_count": 32,
   "id": "2754588d",
   "metadata": {},
   "outputs": [],
   "source": [
    "# Task 8 (code 2 floating variables divided by eachother)\n",
    "a=9.26874"
   ]
  },
  {
   "cell_type": "code",
   "execution_count": 33,
   "id": "981b8c28",
   "metadata": {},
   "outputs": [],
   "source": [
    "b=3.6876"
   ]
  },
  {
   "cell_type": "code",
   "execution_count": 34,
   "id": "d02cd35e",
   "metadata": {},
   "outputs": [
    {
     "data": {
      "text/plain": [
       "2.5134884477709076"
      ]
     },
     "execution_count": 34,
     "metadata": {},
     "output_type": "execute_result"
    }
   ],
   "source": [
    "a/b"
   ]
  },
  {
   "cell_type": "code",
   "execution_count": 57,
   "id": "de9b6b56",
   "metadata": {},
   "outputs": [],
   "source": [
    "#Task 9 Construct a short word made of separate strings \n",
    "c='ark'"
   ]
  },
  {
   "cell_type": "code",
   "execution_count": 56,
   "id": "9ef91753",
   "metadata": {},
   "outputs": [],
   "source": [
    "d='ardv'"
   ]
  },
  {
   "cell_type": "code",
   "execution_count": 58,
   "id": "b9bc3c53",
   "metadata": {},
   "outputs": [
    {
     "data": {
      "text/plain": [
       "'ardvark'"
      ]
     },
     "execution_count": 58,
     "metadata": {},
     "output_type": "execute_result"
    }
   ],
   "source": [
    "d+c"
   ]
  },
  {
   "cell_type": "code",
   "execution_count": 46,
   "id": "db4850b9",
   "metadata": {},
   "outputs": [],
   "source": [
    "# Task 10 Construct two short sentences made of different strings\n",
    "j='Jessica '"
   ]
  },
  {
   "cell_type": "code",
   "execution_count": 47,
   "id": "bf5f5f3c",
   "metadata": {},
   "outputs": [],
   "source": [
    "l='does not like that Python '"
   ]
  },
  {
   "cell_type": "code",
   "execution_count": 44,
   "id": "2a5a6982",
   "metadata": {},
   "outputs": [],
   "source": [
    "t='tracks how many times she accidently hits enter on a script'"
   ]
  },
  {
   "cell_type": "code",
   "execution_count": 50,
   "id": "14225faa",
   "metadata": {},
   "outputs": [],
   "source": [
    "r='rules'"
   ]
  },
  {
   "cell_type": "code",
   "execution_count": 48,
   "id": "3c9cae22",
   "metadata": {},
   "outputs": [
    {
     "data": {
      "text/plain": [
       "'Jessica does not like that Python tracks how many times she accidently hits enter on a script'"
      ]
     },
     "execution_count": 48,
     "metadata": {},
     "output_type": "execute_result"
    }
   ],
   "source": [
    "j+l+t"
   ]
  },
  {
   "cell_type": "code",
   "execution_count": 51,
   "id": "0b7fa656",
   "metadata": {},
   "outputs": [
    {
     "data": {
      "text/plain": [
       "'Jessica rules'"
      ]
     },
     "execution_count": 51,
     "metadata": {},
     "output_type": "execute_result"
    }
   ],
   "source": [
    "j+r"
   ]
  },
  {
   "cell_type": "code",
   "execution_count": 52,
   "id": "b7d2c25f",
   "metadata": {},
   "outputs": [
    {
     "data": {
      "text/plain": [
       "'Jessica Jessica Jessica Jessica Jessica Jessica Jessica Jessica Jessica Jessica Jessica Jessica Jessica Jessica Jessica Jessica Jessica Jessica Jessica Jessica Jessica Jessica Jessica Jessica Jessica Jessica Jessica Jessica Jessica Jessica Jessica Jessica Jessica Jessica Jessica Jessica Jessica Jessica Jessica Jessica Jessica Jessica Jessica Jessica Jessica Jessica Jessica Jessica Jessica Jessica Jessica Jessica Jessica Jessica Jessica Jessica Jessica Jessica Jessica Jessica Jessica Jessica Jessica Jessica Jessica Jessica Jessica Jessica Jessica Jessica Jessica Jessica Jessica Jessica Jessica Jessica Jessica Jessica Jessica Jessica Jessica Jessica Jessica Jessica Jessica Jessica Jessica Jessica Jessica Jessica Jessica Jessica Jessica Jessica Jessica Jessica Jessica Jessica Jessica Jessica '"
      ]
     },
     "execution_count": 52,
     "metadata": {},
     "output_type": "execute_result"
    }
   ],
   "source": [
    "# Bonus Task make a string appear 100 times\n",
    "j * 100"
   ]
  },
  {
   "cell_type": "code",
   "execution_count": null,
   "id": "bbcb5e67",
   "metadata": {},
   "outputs": [],
   "source": []
  }
 ],
 "metadata": {
  "kernelspec": {
   "display_name": "Python 3 (ipykernel)",
   "language": "python",
   "name": "python3"
  },
  "language_info": {
   "codemirror_mode": {
    "name": "ipython",
    "version": 3
   },
   "file_extension": ".py",
   "mimetype": "text/x-python",
   "name": "python",
   "nbconvert_exporter": "python",
   "pygments_lexer": "ipython3",
   "version": "3.11.5"
  }
 },
 "nbformat": 4,
 "nbformat_minor": 5
}
